{
 "metadata": {
  "name": "",
  "signature": "sha256:a95431106327e0a9eff7ebe596ac1483cb8b28584a887f9a49f451a077e8ff6f"
 },
 "nbformat": 3,
 "nbformat_minor": 0,
 "worksheets": [
  {
   "cells": [
    {
     "cell_type": "code",
     "collapsed": false,
     "input": [
      "%load_ext autoreload\n",
      "%autoreload 2"
     ],
     "language": "python",
     "metadata": {},
     "outputs": [],
     "prompt_number": 1
    },
    {
     "cell_type": "code",
     "collapsed": false,
     "input": [
      "from __future__ import division\n",
      "\n",
      "import numpy as np\n",
      "import matplotlib.pyplot as plt\n",
      "\n",
      "import skimage\n",
      "import pims\n",
      "\n",
      "import sys\n",
      "sys.path.append('/home/isaac/work/pyadisi/')\n",
      "\n",
      "import pyadisi"
     ],
     "language": "python",
     "metadata": {},
     "outputs": [],
     "prompt_number": 5
    },
    {
     "cell_type": "code",
     "collapsed": false,
     "input": [
      "def process_func(img):\n",
      "    return skimage.img_as_float(skimage.color.rgb2gray(img))\n",
      "\n",
      "vid_name = '/home/isaac/work/pyadisi/examples/video/snake-landing-1.mov'\n",
      "vid = pims.Video(vid_name, process_func=None)"
     ],
     "language": "python",
     "metadata": {},
     "outputs": [
      {
       "output_type": "stream",
       "stream": "stdout",
       "text": [
        "Decoding video file...\n",
        "Reusing buffer from previous opening of this video.\n"
       ]
      }
     ],
     "prompt_number": 6
    },
    {
     "cell_type": "code",
     "collapsed": false,
     "input": [
      "imshow_args = dict()\n",
      "\n",
      "ii = 100\n",
      "fig, ax = plt.subplots()\n",
      "ax.imshow(vid[ii], interpolation='nearest')\n",
      "\n",
      "fig, ax = plt.subplots()\n",
      "ax.imshow(pyadisi.compare.process_gf(vid[ii]), interpolation='nearest', cmap=plt.cm.gray)"
     ],
     "language": "python",
     "metadata": {},
     "outputs": [
      {
       "metadata": {},
       "output_type": "pyout",
       "prompt_number": 20,
       "text": [
        "<matplotlib.image.AxesImage at 0x15891fd0>"
       ]
      }
     ],
     "prompt_number": 20
    },
    {
     "cell_type": "code",
     "collapsed": false,
     "input": [
      "ax.imshow?"
     ],
     "language": "python",
     "metadata": {},
     "outputs": [],
     "prompt_number": 55
    },
    {
     "cell_type": "code",
     "collapsed": false,
     "input": [
      "plt.close('all')"
     ],
     "language": "python",
     "metadata": {},
     "outputs": [],
     "prompt_number": 59
    },
    {
     "cell_type": "code",
     "collapsed": false,
     "input": [
      "ii = 150\n",
      "img0 = pyadisi.compare.process_gf(vid[ii - 1])# - avg_img\n",
      "img1 = pyadisi.compare.process_gf(vid[ii]) #- avg_img\n",
      "\n",
      "d = pyadisi.compare.subtraction(img0, img1)\n",
      "dd = skimage.exposure.rescale_intensity(d)\n",
      "\n",
      "fig, ax = plt.subplots()\n",
      "#ax.imshow(d < .15, interpolation='lanczos', cmap=plt.cm.RdBu, alpha=.5)\n",
      "cax = ax.imshow(d, interpolation='lanczos', cmap=plt.cm.gray, alpha=1)\n",
      "fig.colorbar(cax)\n",
      "\n",
      "fig, ax = plt.subplots()\n",
      "cax = ax.imshow(d < .15, interpolation='lanczos', cmap=plt.cm.gray)\n",
      "\n",
      "# fig, ax = plt.subplots()\n",
      "# cax = ax.imshow(dd, interpolation='nearest', cmap=plt.cm.gray)\n",
      "# fig.colorbar(cax)"
     ],
     "language": "python",
     "metadata": {},
     "outputs": [],
     "prompt_number": 63
    },
    {
     "cell_type": "code",
     "collapsed": false,
     "input": [
      "fig, (ax1, ax2) = plt.subplots(1, 2, sharex=True, sharey=True, figsize=(8, 6))\n",
      "\n",
      "ax1.imshow(img0, interpolation='nearest', cmap=plt.cm.gray)\n",
      "ax2.imshow(img1, interpolation='nearest', cmap=plt.cm.gray)\n",
      "\n",
      "ax1.axis('off')\n",
      "ax2.axis('off')\n",
      "\n",
      "fig.set_facecolor('w')\n",
      "fig.tight_layout()"
     ],
     "language": "python",
     "metadata": {},
     "outputs": [],
     "prompt_number": 61
    },
    {
     "cell_type": "code",
     "collapsed": false,
     "input": [
      "for i in range(len(vid)):\n",
      "    if i == 0:\n",
      "        avg_img = pyadisi.compare.process_gf(vid[i])\n",
      "    else:\n",
      "        avg_img += pyadisi.compare.process_gf(vid[i])\n",
      "avg_img /= len(vid)"
     ],
     "language": "python",
     "metadata": {},
     "outputs": [],
     "prompt_number": 45
    },
    {
     "cell_type": "code",
     "collapsed": false,
     "input": [
      "fig, ax = plt.subplots()\n",
      "\n",
      "ax.imshow(avg_img, cmap=plt.cm.gray)"
     ],
     "language": "python",
     "metadata": {},
     "outputs": [
      {
       "metadata": {},
       "output_type": "pyout",
       "prompt_number": 46,
       "text": [
        "<matplotlib.image.AxesImage at 0x2a06ce10>"
       ]
      }
     ],
     "prompt_number": 46
    },
    {
     "cell_type": "code",
     "collapsed": false,
     "input": [
      "skimage.color.rgb2gray(vid[0])\n",
      "\n",
      "imshow(skimage.img_as_float(vid[0]))"
     ],
     "language": "python",
     "metadata": {},
     "outputs": [
      {
       "metadata": {},
       "output_type": "pyout",
       "prompt_number": 13,
       "text": [
        "<matplotlib.image.AxesImage at 0x4141cd0>"
       ]
      }
     ],
     "prompt_number": 13
    },
    {
     "cell_type": "code",
     "collapsed": false,
     "input": [
      "vid[0].shape"
     ],
     "language": "python",
     "metadata": {},
     "outputs": [
      {
       "metadata": {},
       "output_type": "pyout",
       "prompt_number": 18,
       "text": [
        "(1024, 1280, 3)"
       ]
      }
     ],
     "prompt_number": 18
    },
    {
     "cell_type": "code",
     "collapsed": false,
     "input": [],
     "language": "python",
     "metadata": {},
     "outputs": []
    }
   ],
   "metadata": {}
  }
 ]
}