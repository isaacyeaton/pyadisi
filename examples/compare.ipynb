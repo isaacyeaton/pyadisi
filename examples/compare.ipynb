{
 "metadata": {
  "name": "",
  "signature": "sha256:cfe9d760e0160103508d0fd6390f5f4f394378697f938e4b934ce506ff007f3f"
 },
 "nbformat": 3,
 "nbformat_minor": 0,
 "worksheets": [
  {
   "cells": [
    {
     "cell_type": "code",
     "collapsed": false,
     "input": [
      "%load_ext autoreload\n",
      "%autoreload 2"
     ],
     "language": "python",
     "metadata": {},
     "outputs": [],
     "prompt_number": 1
    },
    {
     "cell_type": "code",
     "collapsed": false,
     "input": [
      "from __future__ import division\n",
      "\n",
      "import numpy as np\n",
      "import matplotlib.pyplot as plt\n",
      "\n",
      "import skimage\n",
      "import pims\n",
      "\n",
      "import sys\n",
      "sys.path.append('/home/isaac/work/pyadisi/')\n",
      "\n",
      "import pyadisi"
     ],
     "language": "python",
     "metadata": {},
     "outputs": [],
     "prompt_number": 5
    },
    {
     "cell_type": "code",
     "collapsed": false,
     "input": [
      "def process_func(img):\n",
      "    return skimage.img_as_float(skimage.color.rgb2gray(img))\n",
      "\n",
      "vid_name = '/home/isaac/work/pyadisi/examples/video/snake-landing-1.mov'\n",
      "vid_name = '/home/isaac/Dropbox/multisteps/rotations/3_ross/video/turn 1.mov'\n",
      "vid = pims.Video(vid_name, process_func=None)"
     ],
     "language": "python",
     "metadata": {},
     "outputs": [
      {
       "output_type": "stream",
       "stream": "stdout",
       "text": [
        "Decoding video file...\n",
        "Reusing buffer from previous opening of this video.\n"
       ]
      }
     ],
     "prompt_number": 64
    },
    {
     "cell_type": "code",
     "collapsed": false,
     "input": [
      "for i in range(len(vid)):\n",
      "    if i == 0:\n",
      "        avg_img = pyadisi.compare.process_gf(vid[i])\n",
      "    else:\n",
      "        avg_img += pyadisi.compare.process_gf(vid[i])\n",
      "avg_img /= len(vid)"
     ],
     "language": "python",
     "metadata": {},
     "outputs": []
    },
    {
     "cell_type": "code",
     "collapsed": false,
     "input": [
      "imshow_args = dict()\n",
      "\n",
      "ii = 100\n",
      "fig, ax = plt.subplots()\n",
      "ax.imshow(vid[ii], interpolation='nearest')\n",
      "\n",
      "fig, ax = plt.subplots()\n",
      "ax.imshow(pyadisi.compare.process_gf(vid[ii]), interpolation='nearest', cmap=plt.cm.gray)"
     ],
     "language": "python",
     "metadata": {},
     "outputs": [
      {
       "metadata": {},
       "output_type": "pyout",
       "prompt_number": 65,
       "text": [
        "<matplotlib.image.AxesImage at 0x10921510>"
       ]
      }
     ],
     "prompt_number": 65
    },
    {
     "cell_type": "code",
     "collapsed": false,
     "input": [
      "plt.close('all')"
     ],
     "language": "python",
     "metadata": {},
     "outputs": [],
     "prompt_number": 66
    },
    {
     "cell_type": "code",
     "collapsed": false,
     "input": [
      "ii = 50\n",
      "img0 = pyadisi.compare.process_gf(vid[ii - 1]) - avg_img\n",
      "img1 = pyadisi.compare.process_gf(vid[ii]) - avg_img\n",
      "\n",
      "d = pyadisi.compare.subtraction(img0, img1)\n",
      "dd = skimage.exposure.rescale_intensity(d)\n",
      "\n",
      "fig, ax = plt.subplots()\n",
      "#ax.imshow(d < .15, interpolation='lanczos', cmap=plt.cm.RdBu, alpha=.5)\n",
      "cax = ax.imshow(d, interpolation='lanczos', cmap=plt.cm.gray, alpha=1)\n",
      "fig.colorbar(cax)\n",
      "\n",
      "fig, ax = plt.subplots()\n",
      "cax = ax.imshow(d < .15, interpolation='lanczos', cmap=plt.cm.gray)\n",
      "\n",
      "# fig, ax = plt.subplots()\n",
      "# cax = ax.imshow(dd, interpolation='nearest', cmap=plt.cm.gray)\n",
      "# fig.colorbar(cax)"
     ],
     "language": "python",
     "metadata": {},
     "outputs": [],
     "prompt_number": 102
    },
    {
     "cell_type": "code",
     "collapsed": false,
     "input": [
      "fig, (ax1, ax2) = plt.subplots(1, 2, sharex=True, sharey=True, figsize=(8, 6))\n",
      "\n",
      "ax1.imshow(img0, interpolation='lanczos', cmap=plt.cm.gray)\n",
      "ax2.imshow(img1, interpolation='lanczos', cmap=plt.cm.gray)\n",
      "\n",
      "ax1.axis('off')\n",
      "ax2.axis('off')\n",
      "\n",
      "fig.subplots_adjust(hspace=0)\n",
      "\n",
      "fig.set_facecolor('w')\n",
      "fig.tight_layout()"
     ],
     "language": "python",
     "metadata": {},
     "outputs": [],
     "prompt_number": 105
    },
    {
     "cell_type": "code",
     "collapsed": false,
     "input": [
      "from skimage.morphology import disk\n",
      "from skimage.filter.rank import entropy"
     ],
     "language": "python",
     "metadata": {},
     "outputs": []
    },
    {
     "cell_type": "code",
     "collapsed": false,
     "input": [
      "e0 = entropy(skimage.img_as_ubyte(img0), disk(2))\n",
      "e1 = entropy(img1, disk(2))\n",
      "\n",
      "ed = entropy(d, disk(2))"
     ],
     "language": "python",
     "metadata": {},
     "outputs": [],
     "prompt_number": 120
    },
    {
     "cell_type": "code",
     "collapsed": false,
     "input": [
      "fig, ax = plt.subplots()\n",
      "cax = ax.imshow(ed, interpolation='nearest', cmap=plt.cm.gray, alpha=1)\n",
      "fig.colorbar(cax)"
     ],
     "language": "python",
     "metadata": {},
     "outputs": [
      {
       "metadata": {},
       "output_type": "pyout",
       "prompt_number": 121,
       "text": [
        "<matplotlib.colorbar.Colorbar instance at 0x2194e9e0>"
       ]
      }
     ],
     "prompt_number": 121
    },
    {
     "cell_type": "code",
     "collapsed": false,
     "input": [
      "fig, (ax1, ax2) = plt.subplots(1, 2, sharex=True, sharey=True, figsize=(8, 6))\n",
      "\n",
      "cax1 = ax1.imshow(e0, interpolation='nearest', cmap=plt.cm.gray)\n",
      "cax2 = ax2.imshow(e1, interpolation='nearest', cmap=plt.cm.gray)\n",
      "\n",
      "fig.colorbar(cax1, ax=ax1, orientation='horizontal')\n",
      "fig.colorbar(cax2, ax=ax2, orientation='horizontal')\n",
      "\n",
      "ax1.axis('off')\n",
      "ax2.axis('off')\n",
      "\n",
      "fig.subplots_adjust(hspace=0)\n",
      "\n",
      "fig.set_facecolor('w')\n",
      "fig.tight_layout()"
     ],
     "language": "python",
     "metadata": {},
     "outputs": [],
     "prompt_number": 122
    },
    {
     "cell_type": "code",
     "collapsed": false,
     "input": [
      "imshow(skimage.img_as_ubyte(d), interpolation='nearest', cmap=plt.cm.gray)"
     ],
     "language": "python",
     "metadata": {},
     "outputs": [
      {
       "metadata": {},
       "output_type": "pyout",
       "prompt_number": 101,
       "text": [
        "<matplotlib.image.AxesImage at 0x19e54c50>"
       ]
      }
     ],
     "prompt_number": 101
    },
    {
     "cell_type": "code",
     "collapsed": false,
     "input": [
      "dd = skimage.exposure.rescale_intensity(d, out_range=(0, 1))"
     ],
     "language": "python",
     "metadata": {},
     "outputs": [],
     "prompt_number": 98
    },
    {
     "cell_type": "code",
     "collapsed": false,
     "input": [],
     "language": "python",
     "metadata": {},
     "outputs": []
    },
    {
     "cell_type": "code",
     "collapsed": false,
     "input": [
      "fig, ax = plt.subplots()\n",
      "\n",
      "ax.imshow(avg_img, cmap=plt.cm.gray)"
     ],
     "language": "python",
     "metadata": {},
     "outputs": [
      {
       "metadata": {},
       "output_type": "pyout",
       "prompt_number": 73,
       "text": [
        "<matplotlib.image.AxesImage at 0xc616c50>"
       ]
      }
     ],
     "prompt_number": 73
    },
    {
     "cell_type": "code",
     "collapsed": false,
     "input": [
      "plt.close('all')"
     ],
     "language": "python",
     "metadata": {},
     "outputs": [],
     "prompt_number": 78
    },
    {
     "cell_type": "code",
     "collapsed": false,
     "input": [],
     "language": "python",
     "metadata": {},
     "outputs": []
    }
   ],
   "metadata": {}
  }
 ]
}