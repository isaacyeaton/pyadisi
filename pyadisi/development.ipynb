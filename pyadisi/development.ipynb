{
 "metadata": {
  "name": ""
 },
 "nbformat": 3,
 "nbformat_minor": 0,
 "worksheets": [
  {
   "cells": [
    {
     "cell_type": "code",
     "collapsed": false,
     "input": [
      "from __future__ import print_function, division\n",
      "\n",
      "import numpy as np\n",
      "import matplotlib.pyplot as plt\n",
      "from scipy import ndimage\n",
      "from skimage import filter\n",
      "from skimage.exposure import adjust_gamma\n",
      "\n",
      "from matplotlib import widgets\n",
      "from matplotlib.image import AxesImage\n",
      "\n",
      "import sys"
     ],
     "language": "python",
     "metadata": {},
     "outputs": [],
     "prompt_number": 1
    },
    {
     "cell_type": "code",
     "collapsed": false,
     "input": [
      "img = plt.imread('bat_study/calibration/cam3.tif')"
     ],
     "language": "python",
     "metadata": {},
     "outputs": [],
     "prompt_number": 2
    },
    {
     "cell_type": "markdown",
     "metadata": {},
     "source": [
      "http://matplotlib.org/users/event_handling.html\n",
      "\n",
      "http://matplotlib.org/api/artist_api.html\n",
      "\n",
      "http://matplotlib.org/api/backend_bases_api.html#matplotlib.backend_bases.PickEvent\n",
      "\n",
      "http://matplotlib.org/examples/event_handling/\n"
     ]
    },
    {
     "cell_type": "code",
     "collapsed": false,
     "input": [
      "thresh = filter.threshold_otsu(img)\n",
      "binary = img > thresh\n",
      "\n",
      "fig, ax = plt.subplots()\n",
      "\n",
      "ax.imshow(binary, interpolation='nearest', cmap=plt.cm.gray);"
     ],
     "language": "python",
     "metadata": {},
     "outputs": [],
     "prompt_number": 3
    },
    {
     "cell_type": "code",
     "collapsed": false,
     "input": [
      "plt.close('all')\n",
      "\n",
      "## This is the one that works so far.\n",
      "\n",
      "\n",
      "def agamma(artist, mouseevent):\n",
      "    print('mouseevent: {0}'.format(mouseevent))\n",
      "    \n",
      "    xlim, ylim = ax2.get_xlim(), ax2.get_ylim()\n",
      "    gamma = slider_gamma.val\n",
      "    img_adj = adjust_gamma(img, gamma=gamma)\n",
      "    \n",
      "    p1.set_array(img_adj)\n",
      "    p2.set_array(img_adj)\n",
      "    ax2.set_xlim(xlim)\n",
      "    ax2.set_ylim(ylim)\n",
      "    fig.canvas.draw()\n",
      "    \n",
      "    return True, dict()\n",
      "\n",
      "def on_button_press(event):\n",
      "    if event.button == 1:\n",
      "        global sub_img\n",
      "        x, y = event.xdata, event.ydata\n",
      "        idx = np.round(slider.val).astype(np.int)\n",
      "        sub_img = img[y-idx:y+idx, x-idx:x+idx]\n",
      "        \n",
      "        # center of mass for the image\n",
      "        com = ndimage.measurements.center_of_mass(sub_img)# > 100)\n",
      "        xc = com[1] + x - idx\n",
      "        yc = com[0] + y - idx\n",
      "        \n",
      "        #cm_plot.set_data((xc, yc))\n",
      "        cm_plot.set_xdata(xc)\n",
      "        cm_plot.set_ydata(yc)\n",
      "        \n",
      "        # update the small plot\n",
      "        ax2.set_xlim(x-idx, x+idx)\n",
      "        ax2.set_ylim(y+idx, y-idx)\n",
      "        fig.canvas.draw()\n",
      "        \n",
      "        \n",
      "\n",
      "fig, ax1 = plt.subplots(figsize=(6, 8))\n",
      "\n",
      "fig.subplots_adjust(bottom=0.25)\n",
      "ax2 = plt.axes([0.7, 0.05, 0.15, 0.125])\n",
      "ax1.set_xticklabels([])\n",
      "ax1.set_yticklabels([])\n",
      "ax2.set_xticklabels([])\n",
      "ax2.set_yticklabels([])\n",
      "\n",
      "p1 = ax1.imshow(img, interpolation='nearest', cmap=plt.cm.gray)\n",
      "p2 = ax2.imshow(img, interpolation='nearest', cmap=plt.cm.gray)\n",
      "\n",
      "com = ndimage.measurements.center_of_mass(img)\n",
      "cm_plot, = ax2.plot(com[1], com[0], 'g+', ms=12, alpha=.95)\n",
      "ax2.axis('image')\n",
      "\n",
      "cursor = widgets.Cursor(ax1, useblit=True, color='red', linewidth=1)\n",
      "\n",
      "ax_slider = plt.axes([0.15, 0.15, 0.45, 0.02])\n",
      "slider = Slider(ax_slider, 'select', 2, 30, valinit=10, color='#AAAAAA')\n",
      "\n",
      "ax_gamma = plt.axes([.15, .075, 0.45, .02])\n",
      "slider_gamma = Slider(ax_gamma, 'gamma', 0, 2, valinit=1, color='#AAAAAA', picker=agamma)\n",
      "\n",
      "fig.canvas.mpl_connect('button_press_event', on_button_press);"
     ],
     "language": "python",
     "metadata": {},
     "outputs": [],
     "prompt_number": 4
    },
    {
     "cell_type": "code",
     "collapsed": false,
     "input": [
      "plt.plot?"
     ],
     "language": "python",
     "metadata": {},
     "outputs": [],
     "prompt_number": 125
    },
    {
     "cell_type": "code",
     "collapsed": false,
     "input": [
      "com = ndimage.measurements.center_of_mass(sub_img)"
     ],
     "language": "python",
     "metadata": {},
     "outputs": [
      {
       "output_type": "stream",
       "stream": "stdout",
       "text": [
        "\n"
       ]
      }
     ],
     "prompt_number": 108
    },
    {
     "cell_type": "code",
     "collapsed": false,
     "input": [
      "fig, ax = plt.subplots()\n",
      "\n",
      "ax.imshow(sub_img, interpolation='nearest', cmap=plt.cm.gray)\n",
      "ax.plot(com[1], com[0], 'go', alpha=.5)\n",
      "ax.axis('image')"
     ],
     "language": "python",
     "metadata": {},
     "outputs": [
      {
       "metadata": {},
       "output_type": "pyout",
       "prompt_number": 109,
       "text": [
        "(-0.5, 23.5, 23.5, -0.5)"
       ]
      },
      {
       "output_type": "stream",
       "stream": "stdout",
       "text": [
        "[435.49508527199197, 420.28870882446165]\n",
        "[440.28889970498165, 421.42616586913516]"
       ]
      },
      {
       "output_type": "stream",
       "stream": "stdout",
       "text": [
        "\n",
        "[nan, nan]"
       ]
      },
      {
       "output_type": "stream",
       "stream": "stdout",
       "text": [
        "\n",
        "[nan, nan]"
       ]
      },
      {
       "output_type": "stream",
       "stream": "stdout",
       "text": [
        "\n",
        "[nan, nan]"
       ]
      },
      {
       "output_type": "stream",
       "stream": "stdout",
       "text": [
        "\n",
        "[nan, nan]"
       ]
      },
      {
       "output_type": "stream",
       "stream": "stdout",
       "text": [
        "\n",
        "[nan, nan]"
       ]
      },
      {
       "output_type": "stream",
       "stream": "stdout",
       "text": [
        "\n",
        "[nan, nan]"
       ]
      },
      {
       "output_type": "stream",
       "stream": "stdout",
       "text": [
        "\n",
        "[nan, nan]"
       ]
      },
      {
       "output_type": "stream",
       "stream": "stdout",
       "text": [
        "\n",
        "[nan, nan]"
       ]
      }
     ],
     "prompt_number": 109
    },
    {
     "cell_type": "code",
     "collapsed": false,
     "input": [],
     "language": "python",
     "metadata": {},
     "outputs": []
    },
    {
     "cell_type": "code",
     "collapsed": false,
     "input": [
      "plt.close('all')\n",
      "\n",
      "fig, ax1 = plt.subplots(figsize=(6, 8))\n",
      "\n",
      "fig.subplots_adjust(bottom=0.25)\n",
      "ax2 = plt.axes([0.7, 0.05, 0.15, 0.125])\n",
      "#ax2.axis('image')\n",
      "\n",
      "p1 = ax1.imshow(img, interpolation='nearest', cmap=plt.cm.gray, picker=True)\n",
      "p2 = ax2.imshow(np.random.random((50, 50)), interpolation='nearest', cmap=plt.cm.gray)\n",
      "\n",
      "ax_slider = plt.axes([0.15, 0.1, 0.45, 0.02])\n",
      "slider = Slider(ax_slider, 'select', 2, 30, valinit=10, color='#AAAAAA')\n",
      "\n",
      "cursor = widgets.Cursor(ax1, useblit=True, color='red', linewidth=1)\n",
      "\n",
      "def on_pick(event):\n",
      "    artist = event.artist\n",
      "    event = event.mouseevent\n",
      "    \n",
      "    if isinstance(artist, AxesImage):\n",
      "        print('here')\n",
      "        arr = np.array(artist.get_array())\n",
      "        x, y = event.xdata, event.ydata\n",
      "        idx = np.round(slider.val).astype(np.int)\n",
      "        sub_arr = arr[y-idx:y+idx, x-idx:x+idx]\n",
      "        p2.set_data(sub_arr)\n",
      "        fig.canvas.draw()\n",
      "\n",
      "\n",
      "fig.canvas.mpl_connect('pick_event', on_pick);"
     ],
     "language": "python",
     "metadata": {},
     "outputs": []
    },
    {
     "cell_type": "code",
     "collapsed": false,
     "input": [
      "plt.close('all')\n",
      "\n",
      "def pick_event(artist, event):\n",
      "    \"\"\"Select a calibration point, get a subset of the data, and plot\n",
      "    it on the small axis window.\n",
      "    \"\"\"\n",
      "    \n",
      "    print('in pick_event')\n",
      "    print('event: {0}'.format(event))\n",
      "    arr = np.array(artist.get_array())\n",
      "    x, y = event.xdata, event.ydata\n",
      "    idx = np.round(slider.val).astype(np.int)\n",
      "    \n",
      "    sub_arr = arr[y-idx:y+idx, x-idx:x+idx]\n",
      "\n",
      "    \n",
      "    sys.stdout.flush()\n",
      "    \n",
      "    return True, dict(sub_arr=sub_arr)\n",
      "    \n",
      "\n",
      "fig, ax1 = plt.subplots(figsize=(6, 8))\n",
      "\n",
      "fig.subplots_adjust(bottom=0.25)\n",
      "ax2 = plt.axes([0.7, 0.05, 0.15, 0.125])\n",
      "ax2.axis('image')\n",
      "\n",
      "p1 = ax1.imshow(img, interpolation='nearest', cmap=plt.cm.gray, picker=pick_event)\n",
      "p2 = ax2.imshow(np.random.random((50, 50)), interpolation='nearest', cmap=plt.cm.gray)\n",
      "\n",
      "ax_slider = plt.axes([0.15, 0.1, 0.45, 0.02])\n",
      "slider = Slider(ax_slider, 'select', 2, 30, valinit=10, color='#AAAAAA')\n",
      "\n",
      "cursor = widgets.Cursor(ax1, useblit=True, color='red', linewidth=1)\n",
      "\n",
      "def on_button_press(event):\n",
      "    #x, y = event.xdata, event.ydata\n",
      "    print('in on_button_press')\n",
      "    print('event in button: {0}'.format(event))\n",
      "    p2.set_data(sub_arr)\n",
      "    fig.canvas.draw()\n",
      "\n",
      "\n",
      "fig.canvas.mpl_connect('pick_event', on_button_press);"
     ],
     "language": "python",
     "metadata": {},
     "outputs": []
    },
    {
     "cell_type": "code",
     "collapsed": false,
     "input": [
      "arr = p2.get_array()"
     ],
     "language": "python",
     "metadata": {},
     "outputs": [
      {
       "output_type": "stream",
       "stream": "stdout",
       "text": [
        "\n",
        "x: 439.294871795 \t y: 202.987179487\n"
       ]
      }
     ],
     "prompt_number": 129
    },
    {
     "cell_type": "code",
     "collapsed": false,
     "input": [
      "plt.close('all')"
     ],
     "language": "python",
     "metadata": {},
     "outputs": [],
     "prompt_number": 131
    },
    {
     "cell_type": "code",
     "collapsed": false,
     "input": [
      "fig, ax = plt.subplots()\n",
      "p = ax.imshow(sub_arr, interpolation='nearest', cmap=plt.cm.gray)"
     ],
     "language": "python",
     "metadata": {},
     "outputs": [
      {
       "output_type": "stream",
       "stream": "stdout",
       "text": [
        "\n"
       ]
      }
     ],
     "prompt_number": 32
    },
    {
     "cell_type": "code",
     "collapsed": false,
     "input": [
      "p.set_data(sub_arr[::-1, ::-1])"
     ],
     "language": "python",
     "metadata": {},
     "outputs": [],
     "prompt_number": 76
    },
    {
     "cell_type": "code",
     "collapsed": false,
     "input": [
      "fig.canvas.draw()"
     ],
     "language": "python",
     "metadata": {},
     "outputs": [],
     "prompt_number": 77
    },
    {
     "cell_type": "code",
     "collapsed": false,
     "input": [
      "ax2.set_visible(False)\n",
      "fig.canvas.draw()"
     ],
     "language": "python",
     "metadata": {},
     "outputs": [],
     "prompt_number": 16
    },
    {
     "cell_type": "code",
     "collapsed": false,
     "input": [],
     "language": "python",
     "metadata": {},
     "outputs": [],
     "prompt_number": 21
    },
    {
     "cell_type": "code",
     "collapsed": false,
     "input": [],
     "language": "python",
     "metadata": {},
     "outputs": [
      {
       "metadata": {},
       "output_type": "pyout",
       "prompt_number": 24,
       "text": [
        "10"
       ]
      }
     ],
     "prompt_number": 24
    }
   ],
   "metadata": {}
  }
 ]
}