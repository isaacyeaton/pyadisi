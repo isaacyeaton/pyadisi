{
 "metadata": {
  "name": "",
  "signature": "sha256:81974e0efae34c4775b5264b7533e88f1fe81d8a5fe6ed0ac06203ed02794e11"
 },
 "nbformat": 3,
 "nbformat_minor": 0,
 "worksheets": [
  {
   "cells": [
    {
     "cell_type": "code",
     "collapsed": false,
     "input": [
      "import numpy as np\n",
      "\n",
      "import re\n",
      "import subprocess as sp\n",
      "import sys\n",
      "import os\n",
      "\n",
      "import time"
     ],
     "language": "python",
     "metadata": {},
     "outputs": [],
     "prompt_number": 12
    },
    {
     "cell_type": "code",
     "collapsed": false,
     "input": [
      "filename = '/home/isaac/work/pyadisi/examples/video/snake-landing-1.mov'\n"
     ],
     "language": "python",
     "metadata": {},
     "outputs": [],
     "prompt_number": 2
    },
    {
     "cell_type": "code",
     "collapsed": false,
     "input": [
      "def try_ffmpeg(FFMPEG_BINARY):\n",
      "    try:\n",
      "        proc = sp.Popen([FFMPEG_BINARY],\n",
      "                        stdout=sp.PIPE,\n",
      "                        stderr=sp.PIPE)\n",
      "        proc.wait()\n",
      "    except:\n",
      "        return False\n",
      "    else:\n",
      "        return True\n",
      "\n",
      "\n",
      "FFMPEG_BINARY_SUGGESTIONS = ['ffmpeg', 'ffmpeg.exe']\n",
      "\n",
      "FFMPEG_BINARY = None\n",
      "for name in FFMPEG_BINARY_SUGGESTIONS:\n",
      "    if try_ffmpeg(name):\n",
      "        FFMPEG_BINARY = name\n",
      "        break\n",
      "        \n",
      "PIX_FMT = {'rgb24': 3,\n",
      "           'rgba': 4}\n",
      "\n",
      "def kill_process(proc):\n",
      "    \"\"\"Kill a running process and close stdin, stdout, and stderr\n",
      "        \n",
      "    Parameters\n",
      "    ----------\n",
      "    proc : subprocess.Popen\n",
      "        Open subprocess\n",
      "    \n",
      "    Returns\n",
      "    -------\n",
      "    None\n",
      "    \"\"\"\n",
      "    \n",
      "    proc.terminate()\n",
      "    for std in proc.stdin, proc.stdout, proc.stderr:\n",
      "        std.close()\n",
      "\n",
      "        \n",
      "def open_process(cmd):\n",
      "    \"\"\"Open a process to talk with ffmpeg.\n",
      "    \n",
      "    Parameters\n",
      "    ----------\n",
      "    cmd : list\n",
      "        Command in the form of a list. See subprocess documentation\n",
      "    \n",
      "    Returns\n",
      "    -------\n",
      "    proc : subprocess.Popen\n",
      "        Open subprocess\n",
      "    \"\"\"\n",
      "    \n",
      "    proc = sp.Popen(cmd, stdin=sp.PIPE,\n",
      "                     stdout=sp.PIPE,\n",
      "                     stderr=sp.PIPE)\n",
      "    return proc\n",
      "\n",
      "\n",
      "def video_info(filename, pix_fmt):\n",
      "    \"\"\"Load information about the video.\n",
      "    \n",
      "    Parameters\n",
      "    ----------\n",
      "    filename : str\n",
      "        Filename of the video to open (.mp4, .mov, .avi, etc.)\n",
      "    pix_fmt : str\n",
      "        Pixel format for ffpmeg. 'rgb24 is a good bet.\n",
      "    \n",
      "    Returns\n",
      "    -------\n",
      "    vid_info : list\n",
      "        Output from proc.stderr.readlines() of ffmpeg that contains information\n",
      "        about the video and ffmpeg options.\n",
      "    \"\"\"\n",
      "\n",
      "    cmd = [FFMPEG_BINARY, '-i', filename,\n",
      "                    '-f', 'image2pipe',\n",
      "                    '-pix_fmt', pix_fmt,\n",
      "                    '-vcodec', 'rawvideo',\n",
      "                    '-f', 'null',\n",
      "                    os.devnull]\n",
      "    \n",
      "    proc = open_process(cmd)\n",
      "    vid_info = proc.stderr.readlines()\n",
      "    kill_process(proc)\n",
      "    \n",
      "    return vid_info\n",
      "\n",
      "\n",
      "def video_parse_info(vid_info):\n",
      "    \"\"\"Parse the stdout from ffmpeg to get frame size and number\n",
      "    of frames in the video.\n",
      "    \n",
      "    Parameters\n",
      "    ----------\n",
      "    vid_info : list\n",
      "        Output from video_info\n",
      "    \n",
      "    Returns\n",
      "    -------\n",
      "    nframes : int\n",
      "        Number of frames\n",
      "    width : int\n",
      "        Video width in pixels\n",
      "    height : int\n",
      "        Video height in pixels\n",
      "    \"\"\"\n",
      "    \n",
      "    # get the output lines that describe the video\n",
      "    line = [l for l in vid_info if ' Video: ' in l][0]\n",
      "\n",
      "    # get the size, of the form 460x320 (w x h)\n",
      "    match = re.search(\" [0-9]*x[0-9]*(,| )\", line)\n",
      "    width, height = map(int, line[match.start():match.end()-1].split('x'))\n",
      "    \n",
      "    # get the number of frames (should be a better way to get this...)\n",
      "    nframes = int(vid_info[-2].split()[1])\n",
      "    \n",
      "    return nframes, width, height\n",
      "    \n",
      "\n",
      "def video_read(filename, pix_fmt):\n",
      "    \"\"\"Open the video so we can read binary data from it.\n",
      "    \n",
      "    Parameters\n",
      "    ----------\n",
      "    filename : str\n",
      "        Filename of the video to open (.mp4, .mov, .avi, etc.)\n",
      "    pix_fmt : str\n",
      "        Pixel format for ffpmeg. 'rgb24 is a good bet.\n",
      "    \n",
      "    Returns\n",
      "    -------\n",
      "    proc : subprocess.Popen\n",
      "        Process connected to ffmpeg to read binary output.\n",
      "    \"\"\"\n",
      "\n",
      "    cmd = [FFMPEG_BINARY, '-i', filename,\n",
      "                    '-f', 'image2pipe',\n",
      "                    '-pix_fmt', pix_fmt,\n",
      "                    '-vcodec', 'rawvideo', '-']\n",
      "    \n",
      "    proc = open_process(cmd)\n",
      "    return proc\n",
      "\n",
      "\n",
      "def write_npy_header(fp, nframes, width, height, depth, dtype):\n",
      "    \"\"\"Write a numpy header so we can use np.load\n",
      "    to read it back in.\n",
      "    \n",
      "    Parameters\n",
      "    ----------\n",
      "    fp : file\n",
      "        Open binary file.\n",
      "    nframes : int\n",
      "        Number of frames from the video.\n",
      "    width : int\n",
      "        Width of the video in pixels.\n",
      "    height : int\n",
      "        Height of the video in pixels.\n",
      "    depth : int\n",
      "        Color depth of the video.\n",
      "    dtype : type\n",
      "        Datatype of the video\n",
      "    \n",
      "    Returns:\n",
      "    None\n",
      "    \"\"\"\n",
      "    \n",
      "    import struct\n",
      "    \n",
      "    # Get the dict normally used for a .npy file header, but\n",
      "    # change what the shape will be, as we are going to\n",
      "    # continually write to that file.\n",
      "    tmp = np.zeros(0, dtype=dtype)\n",
      "    header_info = np.lib.format.header_data_from_array_1_0(tmp)\n",
      "    header_info['shape'] = (nframes, height, width, depth)  # note: we want height, width\n",
      "    \n",
      "    # Do the rest of this because np.lib.format.write_array_header_1_0(fp, header_info)\n",
      "    # was not writing out the magic '\\x93NUMPY\\x01\\x00' to the file; it only started with\n",
      "    # the header_len_str. Therefore, I am writing this stuff out myself, assuming\n",
      "    # version=(1, 0).\n",
      "    # See: https://github.com/numpy/numpy/blob/master/numpy/lib/format.py#L270\n",
      "    header = [\"{\"]\n",
      "    for key, value in sorted(header_info.items()):\n",
      "        # Need to use repr here, since we eval these when reading\n",
      "        header.append(\"'%s': %s, \" % (key, repr(value)))\n",
      "    header.append(\"}\")\n",
      "    header = \"\".join(header)\n",
      "\n",
      "    current_header_len = np.lib.format.MAGIC_LEN + 2 + len(header) + 1  # 1 for the newline\n",
      "    topad = 16 - (current_header_len % 16)\n",
      "    header = np.compat.asbytes(header + ' '*topad + '\\n')\n",
      "\n",
      "    header_len_str = struct.pack('<H', len(header))\n",
      "\n",
      "    version = (1, 0)\n",
      "\n",
      "    fp.write(np.lib.format.magic(*version))\n",
      "    fp.write(header_len_str)\n",
      "    fp.write(header)\n",
      "\n",
      "\n",
      "def video_to_npy(fp, proc, nreadwrite, nframes, width, height, depth, dtype):\n",
      "    \"\"\"Read from the opened video process and write the data to\n",
      "    an open binary file. We do this reading only a set number of frames\n",
      "    each time and writing them, to keep ram use low.\n",
      "    \n",
      "    Parameters\n",
      "    ----------\n",
      "    fp : file\n",
      "        Open binary file that has numpy header written to it.\n",
      "    proc : subprocess.Popen\n",
      "        Output from video_read.\n",
      "    nreadwrite : int\n",
      "        Number of frames to read before out to disk. This many\n",
      "        frames will be loaded into memory at any given time.\n",
      "    nframes : int\n",
      "        Number of frames from the video.\n",
      "    width : int\n",
      "        Width of the video in pixels.\n",
      "    height : int\n",
      "        Height of the video in pixels.\n",
      "    depth : int\n",
      "        Color depth of the video.\n",
      "    dtype : type\n",
      "        Datatype of the video\n",
      "    \"\"\"\n",
      "    \n",
      "    BASEREAD = width * height * depth\n",
      "    \n",
      "    nleft = nframes\n",
      "    if nreadwrite > nframes:\n",
      "        nreadwrite = nframes\n",
      "    \n",
      "    while True:\n",
      "        arr = np.fromstring(proc.stdout.read(nreadwrite * BASEREAD), dtype=dtype)\n",
      "        arr.tofile(fp)  # turns out don't need to do reshaping\n",
      "        #https://github.com/soft-matter/pims/blob/master/pims/ffmpeg_reader.py\n",
      "        #arr.reshape(nread, height, width, depth).tofile(fp)\n",
      "        \n",
      "        #print('nread: {0} \\t nleft: {1}'.format(nread, nleft))\n",
      "        to_read = nleft - nreadwrite\n",
      "        \n",
      "        if to_read < 0:\n",
      "            nreadwrite = np.abs(nleft)\n",
      "        elif to_read == 0:\n",
      "            break\n",
      "            \n",
      "        nleft -= nreadwrite\n",
      "    #print('\\nfinished!\\nnread: {0} \\t nleft: {1}'.format(nread, nleft))\n",
      "    \n",
      "    return\n",
      "    \n",
      "\n",
      "def load_video(filename, mmap_mode='c', pix_fmt='rgb24', nreadwrite=100, timing=False):\n",
      "    \"\"\"Load in a video file as a numpy array (if we have decoded the video before),\n",
      "    or make this array (and a binary file on disk to store it).\n",
      "    \n",
      "    Note: If the height and width are swapped, the following will swap the axes:\n",
      "    >>> dat = dat.swapaxes(1, 2)\n",
      "    \n",
      "    Parameters\n",
      "    ----------\n",
      "    filename : str\n",
      "        Filename of the video to open (.mp4, .mov, .avi, etc.)\n",
      "    mmap_mode : {r+', 'r', 'w+', 'c'}, default is 'c'\n",
      "        How to memory map the file. Default is copy-on-write.\n",
      "        See np.memmap and np.load for more details.\n",
      "    pix_fmt : 'rgb24' or 'rgba', default is 'rgb24'\n",
      "        Pixel format of the video (passed to ffmpeg).\n",
      "    nreadwrite : int, default is 100\n",
      "        Number of frames to hold in memory at any given time\n",
      "        when making the numpy binary file.\n",
      "    timing : bool, default is False\n",
      "        Printing timing information about saving the file\n",
      "        to disk.\n",
      "    \n",
      "    Returns\n",
      "    -------\n",
      "    dat : ndarray\n",
      "        Array of the video. Shape is (nframes, height, width, depth),\n",
      "        where depth is the color depth for the format.\n",
      "        \n",
      "    Notes\n",
      "    -----\n",
      "    We take the approach of the pims project (github.com/soft-matter/pims) and use\n",
      "    ffmpeg to read in raw byte stream(?) from ffmpeg and write that out to\n",
      "    disk as a binary file. This allows the entire video sequence to be analyzed\n",
      "    at once (as a 4D array) and easy indexing for different frames.\n",
      "    Memmapping prevents the entire file from being read in at once.\n",
      "    \n",
      "    We differ by using .npy binary files, which are\n",
      "    platform independent and have a defined shape. This way we don't rely on things\n",
      "    being platform dependent or a plain text file on how to interpret the binary file.\n",
      "    \n",
      "    Information on this format and why it is preferrable can be found here:\n",
      "    github.com/numpy/numpy/blob/master/doc/neps/npy-format.rst\n",
      "    Some additional information on avoiding plain binary can be found in the\n",
      "    tofile method of np.array.\n",
      "    \"\"\"\n",
      "\n",
      "    savename = filename + '.npy'\n",
      "    \n",
      "    if os.path.isfile(savename):\n",
      "        dat = np.load(savename, mmap_mode=mmap_mode)\n",
      "    else:\n",
      "        if timing:\n",
      "            now = time.time()\n",
      "        \n",
      "        depth = PIX_FMT[pix_fmt]\n",
      "        dtype = np.uint8\n",
      "\n",
      "        vid_info = video_info(filename, pix_fmt)\n",
      "        nframes, width, height = video_parse_info(vid_info)\n",
      "        \n",
      "        with open(savename, 'wb') as fp:\n",
      "            proc = video_read(filename, pix_fmt)\n",
      "            write_npy_header(fp, nframes, width, height, depth, dtype)\n",
      "            video_to_npy(fp, proc, nreadwrite, nframes, width, height, depth, dtype)\n",
      "            kill_process(proc)\n",
      "        \n",
      "        dat = np.load(savename, mmap_mode=mmap_mode)\n",
      "        \n",
      "        if timing:\n",
      "            print('Elapsed time: {0:.3f} sec.'.format(time.time() - now))\n",
      "    \n",
      "    return dat\n",
      "    \n",
      "filename = '/home/isaac/work/animal_movies/videos/salamander2.mp4'\n",
      "d = load_video(filename)"
     ],
     "language": "python",
     "metadata": {},
     "outputs": [],
     "prompt_number": 23
    },
    {
     "cell_type": "code",
     "collapsed": false,
     "input": [
      "d = d.swapaxes(1, 2)"
     ],
     "language": "python",
     "metadata": {},
     "outputs": [],
     "prompt_number": 27
    },
    {
     "cell_type": "code",
     "collapsed": false,
     "input": [
      "imshow(d[100])"
     ],
     "language": "python",
     "metadata": {},
     "outputs": [
      {
       "metadata": {},
       "output_type": "pyout",
       "prompt_number": 28,
       "text": [
        "<matplotlib.image.AxesImage at 0x7fdd96528610>"
       ]
      }
     ],
     "prompt_number": 28
    },
    {
     "cell_type": "code",
     "collapsed": false,
     "input": [
      "import pims\n",
      "vid = pims.Video(filename)"
     ],
     "language": "python",
     "metadata": {},
     "outputs": [
      {
       "output_type": "stream",
       "stream": "stdout",
       "text": [
        "Decoding video file...\n",
        "Reusing buffer from previous opening of this video.\n"
       ]
      }
     ],
     "prompt_number": 19
    },
    {
     "cell_type": "code",
     "collapsed": false,
     "input": [
      "figure()\n",
      "imshow(vid[100])"
     ],
     "language": "python",
     "metadata": {},
     "outputs": [
      {
       "metadata": {},
       "output_type": "pyout",
       "prompt_number": 20,
       "text": [
        "<matplotlib.image.AxesImage at 0x7fdda3df11d0>"
       ]
      }
     ],
     "prompt_number": 20
    },
    {
     "cell_type": "code",
     "collapsed": false,
     "input": [
      "len(vid)"
     ],
     "language": "python",
     "metadata": {},
     "outputs": [
      {
       "metadata": {},
       "output_type": "pyout",
       "prompt_number": 41,
       "text": [
        "381"
       ]
      }
     ],
     "prompt_number": 41
    },
    {
     "cell_type": "code",
     "collapsed": false,
     "input": [
      "len(d)"
     ],
     "language": "python",
     "metadata": {},
     "outputs": [
      {
       "metadata": {},
       "output_type": "pyout",
       "prompt_number": 42,
       "text": [
        "381"
       ]
      }
     ],
     "prompt_number": 42
    },
    {
     "cell_type": "code",
     "collapsed": false,
     "input": [
      "ii = 100\n",
      "np.allclose(d[ii], vid[ii])"
     ],
     "language": "python",
     "metadata": {},
     "outputs": [
      {
       "metadata": {},
       "output_type": "pyout",
       "prompt_number": 43,
       "text": [
        "True"
       ]
      }
     ],
     "prompt_number": 43
    },
    {
     "cell_type": "code",
     "collapsed": false,
     "input": [
      "proc = video_read(filename, pix_fmt)"
     ],
     "language": "python",
     "metadata": {},
     "outputs": [],
     "prompt_number": 92
    },
    {
     "cell_type": "code",
     "collapsed": false,
     "input": [
      "arr = np.fromstring(proc.stdout.read(nframes * width * height * 3), dtype=np.uint8)"
     ],
     "language": "python",
     "metadata": {},
     "outputs": [],
     "prompt_number": 93
    },
    {
     "cell_type": "code",
     "collapsed": false,
     "input": [
      "_kill_process(proc)"
     ],
     "language": "python",
     "metadata": {},
     "outputs": [],
     "prompt_number": 94
    },
    {
     "cell_type": "code",
     "collapsed": false,
     "input": [
      "\n",
      "\n",
      "\n",
      "video_to_npy(1, 1, 1, 1, 1024, 1280, 6, np.uint8)"
     ],
     "language": "python",
     "metadata": {},
     "outputs": [
      {
       "output_type": "stream",
       "stream": "stdout",
       "text": [
        "nread: 1 \t nleft: 1\n",
        "\n",
        "finished!\n",
        "nread: 1 \t nleft: 1\n"
       ]
      }
     ],
     "prompt_number": 13
    },
    {
     "cell_type": "code",
     "collapsed": false,
     "input": [
      "d = arr.reshape(nframes, height, width, 3)"
     ],
     "language": "python",
     "metadata": {},
     "outputs": [],
     "prompt_number": 96
    },
    {
     "cell_type": "code",
     "collapsed": false,
     "input": [
      "imshow(d[10])"
     ],
     "language": "python",
     "metadata": {},
     "outputs": [],
     "prompt_number": 99
    },
    {
     "cell_type": "code",
     "collapsed": false,
     "input": [
      "nframes * height * width * 3"
     ],
     "language": "python",
     "metadata": {},
     "outputs": [],
     "prompt_number": 91
    },
    {
     "cell_type": "code",
     "collapsed": false,
     "input": [
      "2**14 / width * height * 3"
     ],
     "language": "python",
     "metadata": {},
     "outputs": [],
     "prompt_number": 82
    },
    {
     "cell_type": "code",
     "collapsed": false,
     "input": [
      "arr.tofile?"
     ],
     "language": "python",
     "metadata": {},
     "outputs": [],
     "prompt_number": 83
    },
    {
     "cell_type": "code",
     "collapsed": false,
     "input": [],
     "language": "python",
     "metadata": {},
     "outputs": []
    },
    {
     "cell_type": "code",
     "collapsed": false,
     "input": [
      "arr"
     ],
     "language": "python",
     "metadata": {},
     "outputs": [],
     "prompt_number": 76
    },
    {
     "cell_type": "code",
     "collapsed": false,
     "input": [
      "parse_video_info(vid_info)"
     ],
     "language": "python",
     "metadata": {},
     "outputs": [],
     "prompt_number": 44
    },
    {
     "cell_type": "code",
     "collapsed": false,
     "input": [
      "vid_str = str(vid_info)"
     ],
     "language": "python",
     "metadata": {},
     "outputs": [],
     "prompt_number": 131
    },
    {
     "cell_type": "code",
     "collapsed": false,
     "input": [
      "match = re.search(\"\\s[0-9]*\", vid_str)"
     ],
     "language": "python",
     "metadata": {},
     "outputs": [],
     "prompt_number": 135
    },
    {
     "cell_type": "code",
     "collapsed": false,
     "input": [
      "match.groups()"
     ],
     "language": "python",
     "metadata": {},
     "outputs": [],
     "prompt_number": 138
    },
    {
     "cell_type": "code",
     "collapsed": false,
     "input": [
      "match.start()"
     ],
     "language": "python",
     "metadata": {},
     "outputs": [],
     "prompt_number": 136
    },
    {
     "cell_type": "code",
     "collapsed": false,
     "input": [
      "vid_str[match.start():match.end()]"
     ],
     "language": "python",
     "metadata": {},
     "outputs": [],
     "prompt_number": 134
    },
    {
     "cell_type": "code",
     "collapsed": false,
     "input": [],
     "language": "python",
     "metadata": {},
     "outputs": [],
     "prompt_number": 66
    },
    {
     "cell_type": "code",
     "collapsed": false,
     "input": [],
     "language": "python",
     "metadata": {},
     "outputs": [],
     "prompt_number": 46
    },
    {
     "cell_type": "code",
     "collapsed": false,
     "input": [
      "len(vid)"
     ],
     "language": "python",
     "metadata": {},
     "outputs": [],
     "prompt_number": 47
    },
    {
     "cell_type": "code",
     "collapsed": false,
     "input": [],
     "language": "python",
     "metadata": {},
     "outputs": [],
     "prompt_number": 37
    },
    {
     "cell_type": "code",
     "collapsed": false,
     "input": [
      "CHUNKSIZE = 2**14  # utterly arbitrary\n",
      "chunk = proc.stdout.readlines()"
     ],
     "language": "python",
     "metadata": {},
     "outputs": [],
     "prompt_number": 38
    },
    {
     "cell_type": "code",
     "collapsed": false,
     "input": [
      "info = proc.stderr.readlines()"
     ],
     "language": "python",
     "metadata": {},
     "outputs": [],
     "prompt_number": 39
    },
    {
     "cell_type": "code",
     "collapsed": false,
     "input": [],
     "language": "python",
     "metadata": {},
     "outputs": [],
     "prompt_number": 26
    },
    {
     "cell_type": "code",
     "collapsed": false,
     "input": [],
     "language": "python",
     "metadata": {},
     "outputs": [],
     "prompt_number": 32
    },
    {
     "cell_type": "code",
     "collapsed": false,
     "input": [
      "size"
     ],
     "language": "python",
     "metadata": {},
     "outputs": [],
     "prompt_number": 33
    },
    {
     "cell_type": "code",
     "collapsed": false,
     "input": [
      "# this needs to be more robust\n"
     ],
     "language": "python",
     "metadata": {},
     "outputs": [],
     "prompt_number": 34
    },
    {
     "cell_type": "code",
     "collapsed": false,
     "input": [
      "vid_info[-2]"
     ],
     "language": "python",
     "metadata": {},
     "outputs": [],
     "prompt_number": 31
    },
    {
     "cell_type": "code",
     "collapsed": false,
     "input": [
      "match.start()"
     ],
     "language": "python",
     "metadata": {},
     "outputs": [],
     "prompt_number": 29
    },
    {
     "cell_type": "code",
     "collapsed": false,
     "input": [
      "match."
     ],
     "language": "python",
     "metadata": {},
     "outputs": []
    },
    {
     "cell_type": "code",
     "collapsed": false,
     "input": [
      "proc.communicate(' -')"
     ],
     "language": "python",
     "metadata": {},
     "outputs": [],
     "prompt_number": 22
    },
    {
     "cell_type": "code",
     "collapsed": false,
     "input": [],
     "language": "python",
     "metadata": {},
     "outputs": [],
     "prompt_number": 23
    },
    {
     "cell_type": "code",
     "collapsed": false,
     "input": [],
     "language": "python",
     "metadata": {},
     "outputs": [],
     "prompt_number": 3
    },
    {
     "cell_type": "code",
     "collapsed": false,
     "input": [
      "vid = '/home/isaac/work/pyadisi/examples/video/snake-landing-1.mov'"
     ],
     "language": "python",
     "metadata": {},
     "outputs": [],
     "prompt_number": 4
    },
    {
     "cell_type": "code",
     "collapsed": false,
     "input": [
      "d = np.memmap('/home/isaac/work/pyadisi/examples/video/snake-landing-1.mov.trackpy_buffer',\n",
      "              dtype=np.uint8, mode='c')"
     ],
     "language": "python",
     "metadata": {},
     "outputs": [],
     "prompt_number": 5
    },
    {
     "cell_type": "code",
     "collapsed": false,
     "input": [
      "shape = (519, 1024, 1280, 3)"
     ],
     "language": "python",
     "metadata": {},
     "outputs": [],
     "prompt_number": 6
    },
    {
     "cell_type": "code",
     "collapsed": false,
     "input": [
      "e = d.reshape(shape)"
     ],
     "language": "python",
     "metadata": {},
     "outputs": [],
     "prompt_number": 7
    },
    {
     "cell_type": "code",
     "collapsed": false,
     "input": [
      "e.shape"
     ],
     "language": "python",
     "metadata": {},
     "outputs": [],
     "prompt_number": 8
    },
    {
     "cell_type": "code",
     "collapsed": false,
     "input": [
      "imshow(e[100])"
     ],
     "language": "python",
     "metadata": {},
     "outputs": [],
     "prompt_number": 9
    },
    {
     "cell_type": "code",
     "collapsed": false,
     "input": [
      "from numpy import lib"
     ],
     "language": "python",
     "metadata": {},
     "outputs": [],
     "prompt_number": 99
    },
    {
     "cell_type": "code",
     "collapsed": false,
     "input": [
      "header_info = lib.format.header_data_from_array_1_0(d)\n",
      "header_info['shape'] = e.shape\n",
      "header_info"
     ],
     "language": "python",
     "metadata": {},
     "outputs": [],
     "prompt_number": 100
    },
    {
     "cell_type": "code",
     "collapsed": false,
     "input": [
      "header = [\"{\"]\n",
      "for key, value in sorted(header_info.items()):\n",
      "    # Need to use repr here, since we eval these when reading\n",
      "    header.append(\"'%s': %s, \" % (key, repr(value)))\n",
      "header.append(\"}\")\n",
      "header = \"\".join(header)"
     ],
     "language": "python",
     "metadata": {},
     "outputs": [],
     "prompt_number": 101
    },
    {
     "cell_type": "code",
     "collapsed": false,
     "input": [
      "header"
     ],
     "language": "python",
     "metadata": {},
     "outputs": [],
     "prompt_number": 102
    },
    {
     "cell_type": "code",
     "collapsed": false,
     "input": [
      "current_header_len = lib.format.MAGIC_LEN + 2 + len(header) + 1  # 1 for the newline\n",
      "topad = 16 - (current_header_len % 16)\n",
      "header = asbytes(header + ' '*topad + '\\n')"
     ],
     "language": "python",
     "metadata": {},
     "outputs": [],
     "prompt_number": 103
    },
    {
     "cell_type": "code",
     "collapsed": false,
     "input": [
      "header"
     ],
     "language": "python",
     "metadata": {},
     "outputs": [],
     "prompt_number": 104
    },
    {
     "cell_type": "code",
     "collapsed": false,
     "input": [
      "lib.format.header_data_from_array_1_0(e)"
     ],
     "language": "python",
     "metadata": {},
     "outputs": [],
     "prompt_number": 105
    },
    {
     "cell_type": "code",
     "collapsed": false,
     "input": [
      "version = (1, 0)\n",
      "lib.format.magic(*version)"
     ],
     "language": "python",
     "metadata": {},
     "outputs": [],
     "prompt_number": 106
    },
    {
     "cell_type": "code",
     "collapsed": false,
     "input": [],
     "language": "python",
     "metadata": {},
     "outputs": [],
     "prompt_number": 107
    },
    {
     "cell_type": "code",
     "collapsed": false,
     "input": [
      "header"
     ],
     "language": "python",
     "metadata": {},
     "outputs": [],
     "prompt_number": 108
    },
    {
     "cell_type": "code",
     "collapsed": false,
     "input": [
      "import struct\n",
      "header_len_str = struct.pack('<H', len(header))"
     ],
     "language": "python",
     "metadata": {},
     "outputs": [],
     "prompt_number": 108
    },
    {
     "cell_type": "code",
     "collapsed": false,
     "input": [
      "fp = open('/home/isaac/Desktop/snake-landing-2.npy', 'wb')"
     ],
     "language": "python",
     "metadata": {},
     "outputs": [],
     "prompt_number": 127
    },
    {
     "cell_type": "code",
     "collapsed": false,
     "input": [
      "#lib.format.write_array_header_1_0(fp, header_info)\n",
      "fp.write(lib.format.magic(*version))\n",
      "fp.write(header_len_str)\n",
      "fp.write(header)"
     ],
     "language": "python",
     "metadata": {},
     "outputs": [],
     "prompt_number": 110
    },
    {
     "cell_type": "code",
     "collapsed": false,
     "input": [
      "lib.format._write_array_header(fp, header_info, version=None)"
     ],
     "language": "python",
     "metadata": {},
     "outputs": [],
     "prompt_number": 128
    },
    {
     "cell_type": "code",
     "collapsed": false,
     "input": [
      "lib.format.magic?"
     ],
     "language": "python",
     "metadata": {},
     "outputs": [],
     "prompt_number": 130
    },
    {
     "cell_type": "code",
     "collapsed": false,
     "input": [
      "lib.format.write_array_header_1_0(fp, header_info)"
     ],
     "language": "python",
     "metadata": {},
     "outputs": [],
     "prompt_number": 122
    },
    {
     "cell_type": "code",
     "collapsed": false,
     "input": [
      "fp.write(e)"
     ],
     "language": "python",
     "metadata": {},
     "outputs": [],
     "prompt_number": 123
    },
    {
     "cell_type": "code",
     "collapsed": false,
     "input": [
      "fp.close()"
     ],
     "language": "python",
     "metadata": {},
     "outputs": [],
     "prompt_number": 124
    },
    {
     "cell_type": "code",
     "collapsed": false,
     "input": [],
     "language": "python",
     "metadata": {},
     "outputs": [],
     "prompt_number": 124
    },
    {
     "cell_type": "code",
     "collapsed": false,
     "input": [
      "f = np.load('/home/isaac/Desktop/snake-landing-2.npy', mmap_mode='c')"
     ],
     "language": "python",
     "metadata": {},
     "outputs": [],
     "prompt_number": 126
    },
    {
     "cell_type": "code",
     "collapsed": false,
     "input": [
      "f.shape"
     ],
     "language": "python",
     "metadata": {},
     "outputs": [],
     "prompt_number": 118
    },
    {
     "cell_type": "code",
     "collapsed": false,
     "input": [
      "imshow(f[250])"
     ],
     "language": "python",
     "metadata": {},
     "outputs": [],
     "prompt_number": 120
    },
    {
     "cell_type": "code",
     "collapsed": false,
     "input": [],
     "language": "python",
     "metadata": {},
     "outputs": []
    },
    {
     "cell_type": "code",
     "collapsed": false,
     "input": [
      "from numpy.compat import (\n",
      "    asbytes, asstr, asbytes_nested, bytes, basestring, unicode\n",
      "    )"
     ],
     "language": "python",
     "metadata": {},
     "outputs": [],
     "prompt_number": 78
    },
    {
     "cell_type": "code",
     "collapsed": false,
     "input": [
      "_ZIP_PREFIX = asbytes('PK\\x03\\x04')"
     ],
     "language": "python",
     "metadata": {},
     "outputs": [],
     "prompt_number": 79
    },
    {
     "cell_type": "code",
     "collapsed": false,
     "input": [
      "fid = open('/home/isaac/Desktop/snake-landing-1.npy', 'rb')"
     ],
     "language": "python",
     "metadata": {},
     "outputs": [],
     "prompt_number": 80
    },
    {
     "cell_type": "code",
     "collapsed": false,
     "input": [
      "N = len(lib.format.MAGIC_PREFIX)\n",
      "magic = fid.read(N)\n",
      "fid.seek(-N, 1)  # back-up"
     ],
     "language": "python",
     "metadata": {},
     "outputs": [],
     "prompt_number": 81
    },
    {
     "cell_type": "code",
     "collapsed": false,
     "input": [
      "magic"
     ],
     "language": "python",
     "metadata": {},
     "outputs": [],
     "prompt_number": 82
    },
    {
     "cell_type": "code",
     "collapsed": false,
     "input": [
      "fid.seek(0)\n",
      "fid.read(25)"
     ],
     "language": "python",
     "metadata": {},
     "outputs": [],
     "prompt_number": 86
    },
    {
     "cell_type": "code",
     "collapsed": false,
     "input": [
      "lib.format.MAGIC_PREFIX"
     ],
     "language": "python",
     "metadata": {},
     "outputs": [],
     "prompt_number": 63
    },
    {
     "cell_type": "code",
     "collapsed": false,
     "input": [
      "lib.format.magic(*(1, 0))"
     ],
     "language": "python",
     "metadata": {},
     "outputs": [],
     "prompt_number": 47
    },
    {
     "cell_type": "code",
     "collapsed": false,
     "input": [
      "format.MAGIC_PREFIX"
     ],
     "language": "python",
     "metadata": {},
     "outputs": [],
     "prompt_number": 43
    },
    {
     "cell_type": "code",
     "collapsed": false,
     "input": [
      "np.frombuffer?"
     ],
     "language": "python",
     "metadata": {},
     "outputs": [],
     "prompt_number": 88
    },
    {
     "cell_type": "code",
     "collapsed": false,
     "input": [],
     "language": "python",
     "metadata": {},
     "outputs": []
    }
   ],
   "metadata": {}
  }
 ]
}